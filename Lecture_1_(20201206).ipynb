{
  "nbformat": 4,
  "nbformat_minor": 0,
  "metadata": {
    "colab": {
      "name": "Lecture 1 (20201206)",
      "provenance": [],
      "authorship_tag": "ABX9TyMKbB7yHveKZaHSz5RNLPh4",
      "include_colab_link": true
    },
    "kernelspec": {
      "name": "python3",
      "display_name": "Python 3"
    }
  },
  "cells": [
    {
      "cell_type": "markdown",
      "metadata": {
        "id": "view-in-github",
        "colab_type": "text"
      },
      "source": [
        "<a href=\"https://colab.research.google.com/github/Economy21/Complete-Python-3-Bootcamp/blob/master/Lecture_1_(20201206).ipynb\" target=\"_parent\"><img src=\"https://colab.research.google.com/assets/colab-badge.svg\" alt=\"Open In Colab\"/></a>"
      ]
    },
    {
      "cell_type": "code",
      "metadata": {
        "colab": {
          "base_uri": "https://localhost:8080/"
        },
        "id": "kfuIexQms9c_",
        "outputId": "65a15473-05e3-4706-ad92-373c83668c01"
      },
      "source": [
        "print('Hello World!') #1st type of print"
      ],
      "execution_count": 6,
      "outputs": [
        {
          "output_type": "stream",
          "text": [
            "Hello World!\n"
          ],
          "name": "stdout"
        }
      ]
    },
    {
      "cell_type": "code",
      "metadata": {
        "id": "c1xGXsPRtA62"
      },
      "source": [
        "name = \"Ammar Jamshed \" #variable "
      ],
      "execution_count": 14,
      "outputs": []
    },
    {
      "cell_type": "code",
      "metadata": {
        "colab": {
          "base_uri": "https://localhost:8080/"
        },
        "id": "Tr3uyeDzw1ly",
        "outputId": "59f1ee07-7315-419a-8554-0f5e39039616"
      },
      "source": [
        "print(name) #2nd type of print"
      ],
      "execution_count": 8,
      "outputs": [
        {
          "output_type": "stream",
          "text": [
            "Ammar Jamshed\n"
          ],
          "name": "stdout"
        }
      ]
    },
    {
      "cell_type": "code",
      "metadata": {
        "colab": {
          "base_uri": "https://localhost:8080/"
        },
        "id": "RXMvMwwhxDfI",
        "outputId": "6ef11bbe-1b17-4033-e87d-90ba2721b34b"
      },
      "source": [
        "print(\"Hi there: \", name) # 3rd type of print"
      ],
      "execution_count": 9,
      "outputs": [
        {
          "output_type": "stream",
          "text": [
            "Hi there:  Ammar Jamshed\n"
          ],
          "name": "stdout"
        }
      ]
    },
    {
      "cell_type": "code",
      "metadata": {
        "colab": {
          "base_uri": "https://localhost:8080/"
        },
        "id": "QEVPYRAwzlaZ",
        "outputId": "bbd3c7a1-001f-4a0c-d7ba-39bdbdcc0e0e"
      },
      "source": [
        "print(5 * 6)"
      ],
      "execution_count": 11,
      "outputs": [
        {
          "output_type": "stream",
          "text": [
            "30\n"
          ],
          "name": "stdout"
        }
      ]
    },
    {
      "cell_type": "code",
      "metadata": {
        "colab": {
          "base_uri": "https://localhost:8080/"
        },
        "id": "hOdUsjyg0UXo",
        "outputId": "03567cca-74e2-4269-f723-f8c4a9718c36"
      },
      "source": [
        "print(name * 6)"
      ],
      "execution_count": 15,
      "outputs": [
        {
          "output_type": "stream",
          "text": [
            "Ammar Jamshed Ammar Jamshed Ammar Jamshed Ammar Jamshed Ammar Jamshed Ammar Jamshed \n"
          ],
          "name": "stdout"
        }
      ]
    },
    {
      "cell_type": "code",
      "metadata": {
        "colab": {
          "base_uri": "https://localhost:8080/"
        },
        "id": "-bIAD-_S0iyo",
        "outputId": "f6f46b12-afde-4496-ffe5-d8be1d559b0e"
      },
      "source": [
        "number = 1 + 2 * 3 / 4.0\n",
        "print(number)"
      ],
      "execution_count": 17,
      "outputs": [
        {
          "output_type": "stream",
          "text": [
            "2.5\n"
          ],
          "name": "stdout"
        }
      ]
    },
    {
      "cell_type": "code",
      "metadata": {
        "colab": {
          "base_uri": "https://localhost:8080/"
        },
        "id": "gdLtYCB511zY",
        "outputId": "5ff401c5-7507-4996-9d1e-0d2ff6828c8b"
      },
      "source": [
        "#calculate remainder / also called modulus \n",
        "remainder = 11 % 3\n",
        "print(remainder)"
      ],
      "execution_count": 19,
      "outputs": [
        {
          "output_type": "stream",
          "text": [
            "2\n"
          ],
          "name": "stdout"
        }
      ]
    },
    {
      "cell_type": "code",
      "metadata": {
        "id": "KY85rtiV2ItI"
      },
      "source": [
        "# squared \n",
        "squared = 7 ** 2\n",
        "cube = 2 ** 3"
      ],
      "execution_count": 20,
      "outputs": []
    },
    {
      "cell_type": "code",
      "metadata": {
        "colab": {
          "base_uri": "https://localhost:8080/"
        },
        "id": "KV3P0j8b2i7n",
        "outputId": "97b03b6f-9abc-47f4-a213-337a281bf341"
      },
      "source": [
        "print(squared)\n",
        "print(cube)"
      ],
      "execution_count": 21,
      "outputs": [
        {
          "output_type": "stream",
          "text": [
            "49\n",
            "8\n"
          ],
          "name": "stdout"
        }
      ]
    },
    {
      "cell_type": "code",
      "metadata": {
        "colab": {
          "base_uri": "https://localhost:8080/"
        },
        "id": "GLQakQHh2rA4",
        "outputId": "4610327d-a501-482b-9d96-18ea649f3555"
      },
      "source": [
        "name = input(\"Enter name: \")"
      ],
      "execution_count": 22,
      "outputs": [
        {
          "output_type": "stream",
          "text": [
            "Enter name: Ammar Jamshed\n"
          ],
          "name": "stdout"
        }
      ]
    },
    {
      "cell_type": "code",
      "metadata": {
        "colab": {
          "base_uri": "https://localhost:8080/"
        },
        "id": "ITE25iGx3qli",
        "outputId": "575157bb-16f8-4479-ce88-1c920b246cbf"
      },
      "source": [
        "#concatenating strings using additional operators \n",
        "print(\"hello\" + \" \" + \"world\")"
      ],
      "execution_count": 23,
      "outputs": [
        {
          "output_type": "stream",
          "text": [
            "hello world\n"
          ],
          "name": "stdout"
        }
      ]
    },
    {
      "cell_type": "code",
      "metadata": {
        "colab": {
          "base_uri": "https://localhost:8080/"
        },
        "id": "gfBnVRa74-05",
        "outputId": "065b5707-6273-455f-8e01-0989eb11d48e"
      },
      "source": [
        "print(\"hello\", \" \" , \"world\")"
      ],
      "execution_count": 24,
      "outputs": [
        {
          "output_type": "stream",
          "text": [
            "hello   world\n"
          ],
          "name": "stdout"
        }
      ]
    },
    {
      "cell_type": "code",
      "metadata": {
        "colab": {
          "base_uri": "https://localhost:8080/"
        },
        "id": "bfk_z7Wj5GL3",
        "outputId": "1dd6d249-08d2-40db-a810-206677b69d34"
      },
      "source": [
        "print(\"hello\", \" \" , \"world\", 123)"
      ],
      "execution_count": 25,
      "outputs": [
        {
          "output_type": "stream",
          "text": [
            "hello   world 123\n"
          ],
          "name": "stdout"
        }
      ]
    },
    {
      "cell_type": "code",
      "metadata": {
        "id": "CgazpRxk5lzI"
      },
      "source": [
        "x = 123\n",
        "y = \"456\""
      ],
      "execution_count": 26,
      "outputs": []
    },
    {
      "cell_type": "code",
      "metadata": {
        "colab": {
          "base_uri": "https://localhost:8080/"
        },
        "id": "M01QQ2P66IVs",
        "outputId": "1fda9f4d-4b00-4d27-a7d1-5d3ce3f0a1e7"
      },
      "source": [
        "print(x * 2)"
      ],
      "execution_count": 27,
      "outputs": [
        {
          "output_type": "stream",
          "text": [
            "246\n"
          ],
          "name": "stdout"
        }
      ]
    },
    {
      "cell_type": "code",
      "metadata": {
        "colab": {
          "base_uri": "https://localhost:8080/"
        },
        "id": "f4Nmga0G6LwZ",
        "outputId": "54062bcd-c1d1-46fb-8481-2fbebe90d1f1"
      },
      "source": [
        "print(y * 2) #with quotation a numeric will get converted into a string"
      ],
      "execution_count": 28,
      "outputs": [
        {
          "output_type": "stream",
          "text": [
            "456456\n"
          ],
          "name": "stdout"
        }
      ]
    },
    {
      "cell_type": "code",
      "metadata": {
        "id": "kSDwL3nA6V9H"
      },
      "source": [
        ""
      ],
      "execution_count": null,
      "outputs": []
    }
  ]
}